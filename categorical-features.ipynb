{
 "cells": [
  {
   "cell_type": "code",
   "execution_count": 1,
   "id": "6c5a949b",
   "metadata": {
    "execution": {
     "iopub.execute_input": "2022-08-29T16:11:04.822478Z",
     "iopub.status.busy": "2022-08-29T16:11:04.822014Z",
     "iopub.status.idle": "2022-08-29T16:11:12.755084Z",
     "shell.execute_reply": "2022-08-29T16:11:12.753997Z"
    },
    "papermill": {
     "duration": 7.966998,
     "end_time": "2022-08-29T16:11:12.758433",
     "exception": false,
     "start_time": "2022-08-29T16:11:04.791435",
     "status": "completed"
    },
    "tags": []
   },
   "outputs": [],
   "source": [
    "import pandas as pd\n",
    "import numpy as np\n",
    "import  pandas as pd\n",
    "import numpy as np\n",
    "from sklearn.model_selection import train_test_split\n",
    "from sklearn.preprocessing import OrdinalEncoder,OneHotEncoder,StandardScaler,MinMaxScaler\n",
    "from sklearn.linear_model import LogisticRegression\n",
    "import string\n",
    "from category_encoders import TargetEncoder,LeaveOneOutEncoder\n",
    "from catboost import CatBoostClassifier\n",
    "from sklearn.metrics import roc_auc_score\n",
    "from sklearn.feature_extraction import FeatureHasher\n",
    "import tensorflow as tf\n",
    "import xgboost as xgb"
   ]
  },
  {
   "cell_type": "markdown",
   "id": "7629c098",
   "metadata": {
    "papermill": {
     "duration": 0.026253,
     "end_time": "2022-08-29T16:11:12.812361",
     "exception": false,
     "start_time": "2022-08-29T16:11:12.786108",
     "status": "completed"
    },
    "tags": []
   },
   "source": [
    "#  Get Data"
   ]
  },
  {
   "cell_type": "code",
   "execution_count": 2,
   "id": "f4312b97",
   "metadata": {
    "execution": {
     "iopub.execute_input": "2022-08-29T16:11:12.867318Z",
     "iopub.status.busy": "2022-08-29T16:11:12.866984Z",
     "iopub.status.idle": "2022-08-29T16:11:15.860402Z",
     "shell.execute_reply": "2022-08-29T16:11:15.859489Z"
    },
    "papermill": {
     "duration": 3.023839,
     "end_time": "2022-08-29T16:11:15.863166",
     "exception": false,
     "start_time": "2022-08-29T16:11:12.839327",
     "status": "completed"
    },
    "tags": []
   },
   "outputs": [],
   "source": [
    "\n",
    "train=pd.read_csv('../input/cat-in-the-dat/train.csv',index_col='id')\n",
    "test=pd.read_csv('../input/cat-in-the-dat/test.csv',index_col='id')\n",
    "sub=pd.read_csv('../input/cat-in-the-dat/sample_submission.csv')"
   ]
  },
  {
   "cell_type": "code",
   "execution_count": 3,
   "id": "1b2af4fd",
   "metadata": {
    "execution": {
     "iopub.execute_input": "2022-08-29T16:11:15.918100Z",
     "iopub.status.busy": "2022-08-29T16:11:15.917760Z",
     "iopub.status.idle": "2022-08-29T16:11:16.017177Z",
     "shell.execute_reply": "2022-08-29T16:11:16.016352Z"
    },
    "papermill": {
     "duration": 0.129435,
     "end_time": "2022-08-29T16:11:16.019609",
     "exception": false,
     "start_time": "2022-08-29T16:11:15.890174",
     "status": "completed"
    },
    "tags": []
   },
   "outputs": [],
   "source": [
    "ind=len(train)\n",
    "y=train.target\n",
    "train.drop('target',axis=1,inplace=True)\n",
    "#all_data=pd.concat([train,test])"
   ]
  },
  {
   "cell_type": "code",
   "execution_count": 4,
   "id": "d368ff9f",
   "metadata": {
    "execution": {
     "iopub.execute_input": "2022-08-29T16:11:16.075010Z",
     "iopub.status.busy": "2022-08-29T16:11:16.074378Z",
     "iopub.status.idle": "2022-08-29T16:11:16.088620Z",
     "shell.execute_reply": "2022-08-29T16:11:16.087544Z"
    },
    "papermill": {
     "duration": 0.044399,
     "end_time": "2022-08-29T16:11:16.090868",
     "exception": false,
     "start_time": "2022-08-29T16:11:16.046469",
     "status": "completed"
    },
    "tags": []
   },
   "outputs": [
    {
     "data": {
      "text/plain": [
       "0    69.412\n",
       "1    30.588\n",
       "Name: target, dtype: float64"
      ]
     },
     "execution_count": 4,
     "metadata": {},
     "output_type": "execute_result"
    }
   ],
   "source": [
    "y.value_counts()/len(train)*100"
   ]
  },
  {
   "cell_type": "markdown",
   "id": "2e67fa13",
   "metadata": {
    "papermill": {
     "duration": 0.026167,
     "end_time": "2022-08-29T16:11:16.145835",
     "exception": false,
     "start_time": "2022-08-29T16:11:16.119668",
     "status": "completed"
    },
    "tags": []
   },
   "source": [
    "# Encoding categorical features"
   ]
  },
  {
   "cell_type": "code",
   "execution_count": 5,
   "id": "f19c29b7",
   "metadata": {
    "execution": {
     "iopub.execute_input": "2022-08-29T16:11:16.202969Z",
     "iopub.status.busy": "2022-08-29T16:11:16.202030Z",
     "iopub.status.idle": "2022-08-29T16:11:16.504704Z",
     "shell.execute_reply": "2022-08-29T16:11:16.503633Z"
    },
    "papermill": {
     "duration": 0.33292,
     "end_time": "2022-08-29T16:11:16.507329",
     "exception": false,
     "start_time": "2022-08-29T16:11:16.174409",
     "status": "completed"
    },
    "tags": []
   },
   "outputs": [],
   "source": [
    "all_data=pd.concat([train,test])"
   ]
  },
  {
   "cell_type": "markdown",
   "id": "971e3267",
   "metadata": {
    "papermill": {
     "duration": 0.028747,
     "end_time": "2022-08-29T16:11:16.563743",
     "exception": false,
     "start_time": "2022-08-29T16:11:16.534996",
     "status": "completed"
    },
    "tags": []
   },
   "source": [
    "# Ordinal encoding"
   ]
  },
  {
   "cell_type": "code",
   "execution_count": 6,
   "id": "ed5abe1f",
   "metadata": {
    "execution": {
     "iopub.execute_input": "2022-08-29T16:11:16.622374Z",
     "iopub.status.busy": "2022-08-29T16:11:16.622050Z",
     "iopub.status.idle": "2022-08-29T16:11:16.744726Z",
     "shell.execute_reply": "2022-08-29T16:11:16.743826Z"
    },
    "papermill": {
     "duration": 0.155845,
     "end_time": "2022-08-29T16:11:16.747201",
     "exception": false,
     "start_time": "2022-08-29T16:11:16.591356",
     "status": "completed"
    },
    "tags": []
   },
   "outputs": [],
   "source": [
    "ord1_dic={'Grandmaster':4, 'Expert':3, 'Novice':0, 'Contributor':1, 'Master':2}\n",
    "ord2_dic={'Cold':1, 'Hot':3, 'Lava Hot':5, 'Boiling Hot':4, 'Freezing':0, 'Warm':2}\n",
    "\n",
    "all_data['ord_1']= all_data.ord_1.map(ord1_dic)\n",
    "all_data['ord_2']= all_data.ord_2.map(ord2_dic)"
   ]
  },
  {
   "cell_type": "code",
   "execution_count": 7,
   "id": "0b67e7ea",
   "metadata": {
    "execution": {
     "iopub.execute_input": "2022-08-29T16:11:16.802020Z",
     "iopub.status.busy": "2022-08-29T16:11:16.801673Z",
     "iopub.status.idle": "2022-08-29T16:11:17.853093Z",
     "shell.execute_reply": "2022-08-29T16:11:17.851944Z"
    },
    "papermill": {
     "duration": 1.081816,
     "end_time": "2022-08-29T16:11:17.855663",
     "exception": false,
     "start_time": "2022-08-29T16:11:16.773847",
     "status": "completed"
    },
    "tags": []
   },
   "outputs": [],
   "source": [
    "enc = OrdinalEncoder()\n",
    "a=list(string.ascii_lowercase)\n",
    "b=list(string.ascii_uppercase)\n",
    "scal= StandardScaler()\n",
    "all_data[[\"ord_3\"]] = OrdinalEncoder(categories=[a]).fit_transform(all_data[[\"ord_3\"]])\n",
    "all_data[[\"ord_4\"]] = OrdinalEncoder(categories=[b]).fit_transform(all_data[[\"ord_4\"]])\n",
    "all_data[[\"ord_5\"]] = OrdinalEncoder().fit_transform(all_data[[\"ord_5\"]])"
   ]
  },
  {
   "cell_type": "markdown",
   "id": "1f76f97e",
   "metadata": {
    "papermill": {
     "duration": 0.026952,
     "end_time": "2022-08-29T16:11:17.910739",
     "exception": false,
     "start_time": "2022-08-29T16:11:17.883787",
     "status": "completed"
    },
    "tags": []
   },
   "source": [
    "# nominal encoding"
   ]
  },
  {
   "cell_type": "markdown",
   "id": "1dbd47d0",
   "metadata": {
    "papermill": {
     "duration": 0.026882,
     "end_time": "2022-08-29T16:11:17.965241",
     "exception": false,
     "start_time": "2022-08-29T16:11:17.938359",
     "status": "completed"
    },
    "tags": []
   },
   "source": [
    " **<15 CARDINALTY**"
   ]
  },
  {
   "cell_type": "markdown",
   "id": "27ed4c35",
   "metadata": {
    "papermill": {
     "duration": 0.026234,
     "end_time": "2022-08-29T16:11:18.018003",
     "exception": false,
     "start_time": "2022-08-29T16:11:17.991769",
     "status": "completed"
    },
    "tags": []
   },
   "source": [
    "**OneHotEncoder**"
   ]
  },
  {
   "cell_type": "code",
   "execution_count": 8,
   "id": "1c322de3",
   "metadata": {
    "execution": {
     "iopub.execute_input": "2022-08-29T16:11:18.074114Z",
     "iopub.status.busy": "2022-08-29T16:11:18.073841Z",
     "iopub.status.idle": "2022-08-29T16:11:18.561351Z",
     "shell.execute_reply": "2022-08-29T16:11:18.560443Z"
    },
    "papermill": {
     "duration": 0.518801,
     "end_time": "2022-08-29T16:11:18.563770",
     "exception": false,
     "start_time": "2022-08-29T16:11:18.044969",
     "status": "completed"
    },
    "tags": []
   },
   "outputs": [],
   "source": [
    "all_data=pd.get_dummies(all_data,columns=['nom_0','nom_1','nom_2','nom_3','nom_4'],drop_first='True')"
   ]
  },
  {
   "cell_type": "markdown",
   "id": "04e4a50f",
   "metadata": {
    "papermill": {
     "duration": 0.029465,
     "end_time": "2022-08-29T16:11:18.620581",
     "exception": false,
     "start_time": "2022-08-29T16:11:18.591116",
     "status": "completed"
    },
    "tags": []
   },
   "source": [
    "**HIHGER THAN 15 CARDINALTY**"
   ]
  },
  {
   "cell_type": "markdown",
   "id": "2cf44a1c",
   "metadata": {
    "papermill": {
     "duration": 0.026918,
     "end_time": "2022-08-29T16:11:18.675710",
     "exception": false,
     "start_time": "2022-08-29T16:11:18.648792",
     "status": "completed"
    },
    "tags": []
   },
   "source": [
    "# 1-Hash encoding\n",
    "uses a hash function to map each categorical value in the variable to a unique random number. It’s similar to one-hot encoding but more flexible as it allows us to determine the number of dimension we want to output. The advantage of the hash encoding is lower number of dimensions. However, it can lead to collision of hash numbers in cases where we have large number of categorical features."
   ]
  },
  {
   "cell_type": "code",
   "execution_count": 9,
   "id": "107104cd",
   "metadata": {
    "execution": {
     "iopub.execute_input": "2022-08-29T16:11:18.730737Z",
     "iopub.status.busy": "2022-08-29T16:11:18.729922Z",
     "iopub.status.idle": "2022-08-29T16:11:18.788434Z",
     "shell.execute_reply": "2022-08-29T16:11:18.787415Z"
    },
    "papermill": {
     "duration": 0.088797,
     "end_time": "2022-08-29T16:11:18.791051",
     "exception": false,
     "start_time": "2022-08-29T16:11:18.702254",
     "status": "completed"
    },
    "tags": []
   },
   "outputs": [],
   "source": [
    "nom5_9 =['nom_5','nom_6','nom_7','nom_8','nom_9']\n",
    "from sklearn.feature_extraction import FeatureHasher\n",
    "h = FeatureHasher(input_type='string')\n",
    "data_h=h.fit_transform(all_data[nom5_9])"
   ]
  },
  {
   "cell_type": "markdown",
   "id": "e01118a4",
   "metadata": {
    "papermill": {
     "duration": 0.027767,
     "end_time": "2022-08-29T16:11:18.846527",
     "exception": false,
     "start_time": "2022-08-29T16:11:18.818760",
     "status": "completed"
    },
    "tags": []
   },
   "source": [
    "#  **2-Frequency Encoding**  \n",
    " we count the number of observation for each category and replace the specific value with its equivalent number of occurrence"
   ]
  },
  {
   "cell_type": "code",
   "execution_count": 10,
   "id": "9c381379",
   "metadata": {
    "execution": {
     "iopub.execute_input": "2022-08-29T16:11:18.902819Z",
     "iopub.status.busy": "2022-08-29T16:11:18.902534Z",
     "iopub.status.idle": "2022-08-29T16:11:18.907669Z",
     "shell.execute_reply": "2022-08-29T16:11:18.907001Z"
    },
    "papermill": {
     "duration": 0.035231,
     "end_time": "2022-08-29T16:11:18.909904",
     "exception": false,
     "start_time": "2022-08-29T16:11:18.874673",
     "status": "completed"
    },
    "tags": []
   },
   "outputs": [],
   "source": [
    "def fec_enc(df,cols):\n",
    "    for col in cols:\n",
    "        n=df.groupby(col).size()/len(df)\n",
    "        df[col+'en']=df[col].map(n)\n",
    "    return df\n",
    "        "
   ]
  },
  {
   "cell_type": "code",
   "execution_count": 11,
   "id": "5cc407eb",
   "metadata": {
    "execution": {
     "iopub.execute_input": "2022-08-29T16:11:18.968590Z",
     "iopub.status.busy": "2022-08-29T16:11:18.967344Z",
     "iopub.status.idle": "2022-08-29T16:11:19.719895Z",
     "shell.execute_reply": "2022-08-29T16:11:19.718957Z"
    },
    "papermill": {
     "duration": 0.784739,
     "end_time": "2022-08-29T16:11:19.722301",
     "exception": false,
     "start_time": "2022-08-29T16:11:18.937562",
     "status": "completed"
    },
    "tags": []
   },
   "outputs": [
    {
     "data": {
      "text/html": [
       "<div>\n",
       "<style scoped>\n",
       "    .dataframe tbody tr th:only-of-type {\n",
       "        vertical-align: middle;\n",
       "    }\n",
       "\n",
       "    .dataframe tbody tr th {\n",
       "        vertical-align: top;\n",
       "    }\n",
       "\n",
       "    .dataframe thead th {\n",
       "        text-align: right;\n",
       "    }\n",
       "</style>\n",
       "<table border=\"1\" class=\"dataframe\">\n",
       "  <thead>\n",
       "    <tr style=\"text-align: right;\">\n",
       "      <th></th>\n",
       "      <th>bin_0</th>\n",
       "      <th>bin_1</th>\n",
       "      <th>bin_2</th>\n",
       "      <th>bin_3</th>\n",
       "      <th>bin_4</th>\n",
       "      <th>nom_5</th>\n",
       "      <th>nom_6</th>\n",
       "      <th>nom_7</th>\n",
       "      <th>nom_8</th>\n",
       "      <th>nom_9</th>\n",
       "      <th>...</th>\n",
       "      <th>nom_3_India</th>\n",
       "      <th>nom_3_Russia</th>\n",
       "      <th>nom_4_Oboe</th>\n",
       "      <th>nom_4_Piano</th>\n",
       "      <th>nom_4_Theremin</th>\n",
       "      <th>nom_5en</th>\n",
       "      <th>nom_6en</th>\n",
       "      <th>nom_7en</th>\n",
       "      <th>nom_8en</th>\n",
       "      <th>nom_9en</th>\n",
       "    </tr>\n",
       "    <tr>\n",
       "      <th>id</th>\n",
       "      <th></th>\n",
       "      <th></th>\n",
       "      <th></th>\n",
       "      <th></th>\n",
       "      <th></th>\n",
       "      <th></th>\n",
       "      <th></th>\n",
       "      <th></th>\n",
       "      <th></th>\n",
       "      <th></th>\n",
       "      <th></th>\n",
       "      <th></th>\n",
       "      <th></th>\n",
       "      <th></th>\n",
       "      <th></th>\n",
       "      <th></th>\n",
       "      <th></th>\n",
       "      <th></th>\n",
       "      <th></th>\n",
       "      <th></th>\n",
       "      <th></th>\n",
       "    </tr>\n",
       "  </thead>\n",
       "  <tbody>\n",
       "    <tr>\n",
       "      <th>0</th>\n",
       "      <td>0</td>\n",
       "      <td>0</td>\n",
       "      <td>0</td>\n",
       "      <td>T</td>\n",
       "      <td>Y</td>\n",
       "      <td>50f116bcf</td>\n",
       "      <td>3ac1b8814</td>\n",
       "      <td>68f6ad3e9</td>\n",
       "      <td>c389000ab</td>\n",
       "      <td>2f4cb3d51</td>\n",
       "      <td>...</td>\n",
       "      <td>0</td>\n",
       "      <td>0</td>\n",
       "      <td>0</td>\n",
       "      <td>0</td>\n",
       "      <td>0</td>\n",
       "      <td>0.008624</td>\n",
       "      <td>0.003752</td>\n",
       "      <td>0.000820</td>\n",
       "      <td>0.000978</td>\n",
       "      <td>0.000064</td>\n",
       "    </tr>\n",
       "    <tr>\n",
       "      <th>1</th>\n",
       "      <td>0</td>\n",
       "      <td>1</td>\n",
       "      <td>0</td>\n",
       "      <td>T</td>\n",
       "      <td>Y</td>\n",
       "      <td>b3b4d25d0</td>\n",
       "      <td>fbcb50fc1</td>\n",
       "      <td>3b6dd5612</td>\n",
       "      <td>4cd920251</td>\n",
       "      <td>f83c56c21</td>\n",
       "      <td>...</td>\n",
       "      <td>0</td>\n",
       "      <td>1</td>\n",
       "      <td>0</td>\n",
       "      <td>1</td>\n",
       "      <td>0</td>\n",
       "      <td>0.002608</td>\n",
       "      <td>0.002736</td>\n",
       "      <td>0.000924</td>\n",
       "      <td>0.000358</td>\n",
       "      <td>0.000046</td>\n",
       "    </tr>\n",
       "    <tr>\n",
       "      <th>2</th>\n",
       "      <td>0</td>\n",
       "      <td>0</td>\n",
       "      <td>0</td>\n",
       "      <td>F</td>\n",
       "      <td>Y</td>\n",
       "      <td>3263bdce5</td>\n",
       "      <td>0922e3cb8</td>\n",
       "      <td>a6a36f527</td>\n",
       "      <td>de9c9f684</td>\n",
       "      <td>ae6800dd0</td>\n",
       "      <td>...</td>\n",
       "      <td>0</td>\n",
       "      <td>1</td>\n",
       "      <td>0</td>\n",
       "      <td>0</td>\n",
       "      <td>1</td>\n",
       "      <td>0.008518</td>\n",
       "      <td>0.003868</td>\n",
       "      <td>0.001600</td>\n",
       "      <td>0.000878</td>\n",
       "      <td>0.000100</td>\n",
       "    </tr>\n",
       "    <tr>\n",
       "      <th>3</th>\n",
       "      <td>0</td>\n",
       "      <td>1</td>\n",
       "      <td>0</td>\n",
       "      <td>F</td>\n",
       "      <td>Y</td>\n",
       "      <td>f12246592</td>\n",
       "      <td>50d7ad46a</td>\n",
       "      <td>ec69236eb</td>\n",
       "      <td>4ade6ab69</td>\n",
       "      <td>8270f0d71</td>\n",
       "      <td>...</td>\n",
       "      <td>0</td>\n",
       "      <td>0</td>\n",
       "      <td>1</td>\n",
       "      <td>0</td>\n",
       "      <td>0</td>\n",
       "      <td>0.003256</td>\n",
       "      <td>0.003874</td>\n",
       "      <td>0.001500</td>\n",
       "      <td>0.000714</td>\n",
       "      <td>0.000146</td>\n",
       "    </tr>\n",
       "    <tr>\n",
       "      <th>4</th>\n",
       "      <td>0</td>\n",
       "      <td>0</td>\n",
       "      <td>0</td>\n",
       "      <td>F</td>\n",
       "      <td>N</td>\n",
       "      <td>5b0f5acd5</td>\n",
       "      <td>1fe17a1fd</td>\n",
       "      <td>04ddac2be</td>\n",
       "      <td>cb43ab175</td>\n",
       "      <td>b164b72a7</td>\n",
       "      <td>...</td>\n",
       "      <td>0</td>\n",
       "      <td>0</td>\n",
       "      <td>1</td>\n",
       "      <td>0</td>\n",
       "      <td>0</td>\n",
       "      <td>0.006602</td>\n",
       "      <td>0.003858</td>\n",
       "      <td>0.001520</td>\n",
       "      <td>0.000690</td>\n",
       "      <td>0.000126</td>\n",
       "    </tr>\n",
       "    <tr>\n",
       "      <th>...</th>\n",
       "      <td>...</td>\n",
       "      <td>...</td>\n",
       "      <td>...</td>\n",
       "      <td>...</td>\n",
       "      <td>...</td>\n",
       "      <td>...</td>\n",
       "      <td>...</td>\n",
       "      <td>...</td>\n",
       "      <td>...</td>\n",
       "      <td>...</td>\n",
       "      <td>...</td>\n",
       "      <td>...</td>\n",
       "      <td>...</td>\n",
       "      <td>...</td>\n",
       "      <td>...</td>\n",
       "      <td>...</td>\n",
       "      <td>...</td>\n",
       "      <td>...</td>\n",
       "      <td>...</td>\n",
       "      <td>...</td>\n",
       "      <td>...</td>\n",
       "    </tr>\n",
       "    <tr>\n",
       "      <th>499995</th>\n",
       "      <td>0</td>\n",
       "      <td>0</td>\n",
       "      <td>0</td>\n",
       "      <td>F</td>\n",
       "      <td>N</td>\n",
       "      <td>6c90f81cd</td>\n",
       "      <td>a406a5f12</td>\n",
       "      <td>d02a6b0ba</td>\n",
       "      <td>9e4b23160</td>\n",
       "      <td>acc31291f</td>\n",
       "      <td>...</td>\n",
       "      <td>0</td>\n",
       "      <td>0</td>\n",
       "      <td>0</td>\n",
       "      <td>0</td>\n",
       "      <td>1</td>\n",
       "      <td>0.008912</td>\n",
       "      <td>0.003658</td>\n",
       "      <td>0.001074</td>\n",
       "      <td>0.000522</td>\n",
       "      <td>0.000124</td>\n",
       "    </tr>\n",
       "    <tr>\n",
       "      <th>499996</th>\n",
       "      <td>1</td>\n",
       "      <td>0</td>\n",
       "      <td>0</td>\n",
       "      <td>F</td>\n",
       "      <td>Y</td>\n",
       "      <td>2d61990e2</td>\n",
       "      <td>520806ce2</td>\n",
       "      <td>d2d8eabdb</td>\n",
       "      <td>cfbd87ed0</td>\n",
       "      <td>eae3446d0</td>\n",
       "      <td>...</td>\n",
       "      <td>0</td>\n",
       "      <td>0</td>\n",
       "      <td>0</td>\n",
       "      <td>1</td>\n",
       "      <td>0</td>\n",
       "      <td>0.005990</td>\n",
       "      <td>0.002240</td>\n",
       "      <td>0.000824</td>\n",
       "      <td>0.000546</td>\n",
       "      <td>0.000150</td>\n",
       "    </tr>\n",
       "    <tr>\n",
       "      <th>499997</th>\n",
       "      <td>0</td>\n",
       "      <td>1</td>\n",
       "      <td>1</td>\n",
       "      <td>T</td>\n",
       "      <td>Y</td>\n",
       "      <td>488406659</td>\n",
       "      <td>28645754b</td>\n",
       "      <td>22831fffe</td>\n",
       "      <td>1108bcd6c</td>\n",
       "      <td>33dd3cf4b</td>\n",
       "      <td>...</td>\n",
       "      <td>0</td>\n",
       "      <td>0</td>\n",
       "      <td>1</td>\n",
       "      <td>0</td>\n",
       "      <td>0</td>\n",
       "      <td>0.002244</td>\n",
       "      <td>0.001216</td>\n",
       "      <td>0.001548</td>\n",
       "      <td>0.000384</td>\n",
       "      <td>0.000040</td>\n",
       "    </tr>\n",
       "    <tr>\n",
       "      <th>499998</th>\n",
       "      <td>1</td>\n",
       "      <td>0</td>\n",
       "      <td>0</td>\n",
       "      <td>T</td>\n",
       "      <td>Y</td>\n",
       "      <td>f9d17bb93</td>\n",
       "      <td>2eadb68c5</td>\n",
       "      <td>fef807a3e</td>\n",
       "      <td>606ac930b</td>\n",
       "      <td>d4cf587dd</td>\n",
       "      <td>...</td>\n",
       "      <td>0</td>\n",
       "      <td>0</td>\n",
       "      <td>0</td>\n",
       "      <td>0</td>\n",
       "      <td>0</td>\n",
       "      <td>0.004758</td>\n",
       "      <td>0.002962</td>\n",
       "      <td>0.001498</td>\n",
       "      <td>0.000482</td>\n",
       "      <td>0.000064</td>\n",
       "    </tr>\n",
       "    <tr>\n",
       "      <th>499999</th>\n",
       "      <td>0</td>\n",
       "      <td>0</td>\n",
       "      <td>0</td>\n",
       "      <td>T</td>\n",
       "      <td>Y</td>\n",
       "      <td>a5c276589</td>\n",
       "      <td>c135cdf77</td>\n",
       "      <td>a8f53c631</td>\n",
       "      <td>4ea576eb6</td>\n",
       "      <td>2d610f52c</td>\n",
       "      <td>...</td>\n",
       "      <td>1</td>\n",
       "      <td>0</td>\n",
       "      <td>0</td>\n",
       "      <td>1</td>\n",
       "      <td>0</td>\n",
       "      <td>0.006628</td>\n",
       "      <td>0.003386</td>\n",
       "      <td>0.000838</td>\n",
       "      <td>0.000828</td>\n",
       "      <td>0.000162</td>\n",
       "    </tr>\n",
       "  </tbody>\n",
       "</table>\n",
       "<p>500000 rows × 43 columns</p>\n",
       "</div>"
      ],
      "text/plain": [
       "        bin_0  bin_1  bin_2 bin_3 bin_4      nom_5      nom_6      nom_7  \\\n",
       "id                                                                         \n",
       "0           0      0      0     T     Y  50f116bcf  3ac1b8814  68f6ad3e9   \n",
       "1           0      1      0     T     Y  b3b4d25d0  fbcb50fc1  3b6dd5612   \n",
       "2           0      0      0     F     Y  3263bdce5  0922e3cb8  a6a36f527   \n",
       "3           0      1      0     F     Y  f12246592  50d7ad46a  ec69236eb   \n",
       "4           0      0      0     F     N  5b0f5acd5  1fe17a1fd  04ddac2be   \n",
       "...       ...    ...    ...   ...   ...        ...        ...        ...   \n",
       "499995      0      0      0     F     N  6c90f81cd  a406a5f12  d02a6b0ba   \n",
       "499996      1      0      0     F     Y  2d61990e2  520806ce2  d2d8eabdb   \n",
       "499997      0      1      1     T     Y  488406659  28645754b  22831fffe   \n",
       "499998      1      0      0     T     Y  f9d17bb93  2eadb68c5  fef807a3e   \n",
       "499999      0      0      0     T     Y  a5c276589  c135cdf77  a8f53c631   \n",
       "\n",
       "            nom_8      nom_9  ...  nom_3_India  nom_3_Russia  nom_4_Oboe  \\\n",
       "id                            ...                                          \n",
       "0       c389000ab  2f4cb3d51  ...            0             0           0   \n",
       "1       4cd920251  f83c56c21  ...            0             1           0   \n",
       "2       de9c9f684  ae6800dd0  ...            0             1           0   \n",
       "3       4ade6ab69  8270f0d71  ...            0             0           1   \n",
       "4       cb43ab175  b164b72a7  ...            0             0           1   \n",
       "...           ...        ...  ...          ...           ...         ...   \n",
       "499995  9e4b23160  acc31291f  ...            0             0           0   \n",
       "499996  cfbd87ed0  eae3446d0  ...            0             0           0   \n",
       "499997  1108bcd6c  33dd3cf4b  ...            0             0           1   \n",
       "499998  606ac930b  d4cf587dd  ...            0             0           0   \n",
       "499999  4ea576eb6  2d610f52c  ...            1             0           0   \n",
       "\n",
       "        nom_4_Piano  nom_4_Theremin   nom_5en   nom_6en   nom_7en   nom_8en  \\\n",
       "id                                                                            \n",
       "0                 0               0  0.008624  0.003752  0.000820  0.000978   \n",
       "1                 1               0  0.002608  0.002736  0.000924  0.000358   \n",
       "2                 0               1  0.008518  0.003868  0.001600  0.000878   \n",
       "3                 0               0  0.003256  0.003874  0.001500  0.000714   \n",
       "4                 0               0  0.006602  0.003858  0.001520  0.000690   \n",
       "...             ...             ...       ...       ...       ...       ...   \n",
       "499995            0               1  0.008912  0.003658  0.001074  0.000522   \n",
       "499996            1               0  0.005990  0.002240  0.000824  0.000546   \n",
       "499997            0               0  0.002244  0.001216  0.001548  0.000384   \n",
       "499998            0               0  0.004758  0.002962  0.001498  0.000482   \n",
       "499999            1               0  0.006628  0.003386  0.000838  0.000828   \n",
       "\n",
       "         nom_9en  \n",
       "id                \n",
       "0       0.000064  \n",
       "1       0.000046  \n",
       "2       0.000100  \n",
       "3       0.000146  \n",
       "4       0.000126  \n",
       "...          ...  \n",
       "499995  0.000124  \n",
       "499996  0.000150  \n",
       "499997  0.000040  \n",
       "499998  0.000064  \n",
       "499999  0.000162  \n",
       "\n",
       "[500000 rows x 43 columns]"
      ]
     },
     "execution_count": 11,
     "metadata": {},
     "output_type": "execute_result"
    }
   ],
   "source": [
    "fec_enc(all_data,['nom_5','nom_6','nom_7','nom_8','nom_9'])"
   ]
  },
  {
   "cell_type": "markdown",
   "id": "d98853fd",
   "metadata": {
    "papermill": {
     "duration": 0.028177,
     "end_time": "2022-08-29T16:11:19.778105",
     "exception": false,
     "start_time": "2022-08-29T16:11:19.749928",
     "status": "completed"
    },
    "tags": []
   },
   "source": [
    "# 3- Target encoder\n",
    " by computing the average of the target variable for each value of the categorical variable and replacing the calculated mean with the categorical value. "
   ]
  },
  {
   "cell_type": "code",
   "execution_count": 12,
   "id": "a7da4ae2",
   "metadata": {
    "execution": {
     "iopub.execute_input": "2022-08-29T16:11:19.834924Z",
     "iopub.status.busy": "2022-08-29T16:11:19.834418Z",
     "iopub.status.idle": "2022-08-29T16:11:22.803737Z",
     "shell.execute_reply": "2022-08-29T16:11:22.802736Z"
    },
    "papermill": {
     "duration": 3.001095,
     "end_time": "2022-08-29T16:11:22.806606",
     "exception": false,
     "start_time": "2022-08-29T16:11:19.805511",
     "status": "completed"
    },
    "tags": []
   },
   "outputs": [],
   "source": [
    "nom5_9=['nom_5','nom_6','nom_7','nom_8','nom_9']\n",
    "encoder = TargetEncoder()\n",
    "encoder.fit(train[nom5_9],y)\n",
    "train[nom5_9]=encoder.transform(train[nom5_9])\n",
    "test[nom5_9]=encoder.transform(test[nom5_9])"
   ]
  },
  {
   "cell_type": "markdown",
   "id": "9fa7e8a7",
   "metadata": {
    "papermill": {
     "duration": 0.027414,
     "end_time": "2022-08-29T16:11:22.861887",
     "exception": false,
     "start_time": "2022-08-29T16:11:22.834473",
     "status": "completed"
    },
    "tags": []
   },
   "source": [
    "# 4- LeaveOneOut  Encoder"
   ]
  },
  {
   "cell_type": "code",
   "execution_count": 13,
   "id": "e924bb09",
   "metadata": {
    "execution": {
     "iopub.execute_input": "2022-08-29T16:11:22.918838Z",
     "iopub.status.busy": "2022-08-29T16:11:22.918525Z",
     "iopub.status.idle": "2022-08-29T16:11:22.968906Z",
     "shell.execute_reply": "2022-08-29T16:11:22.968208Z"
    },
    "papermill": {
     "duration": 0.081494,
     "end_time": "2022-08-29T16:11:22.971196",
     "exception": false,
     "start_time": "2022-08-29T16:11:22.889702",
     "status": "completed"
    },
    "tags": []
   },
   "outputs": [],
   "source": [
    "encoder = LeaveOneOutEncoder(return_df=True)\n",
    "encoder.fit(train[nom5_9],y)\n",
    "train[nom5_9]=encoder.transform(train[nom5_9])\n",
    "test[nom5_9]=encoder.transform(test[nom5_9])"
   ]
  },
  {
   "cell_type": "markdown",
   "id": "e20eb406",
   "metadata": {
    "papermill": {
     "duration": 0.027736,
     "end_time": "2022-08-29T16:11:23.026961",
     "exception": false,
     "start_time": "2022-08-29T16:11:22.999225",
     "status": "completed"
    },
    "tags": []
   },
   "source": [
    "# **cyclical features**"
   ]
  },
  {
   "cell_type": "markdown",
   "id": "9147f79d",
   "metadata": {
    "papermill": {
     "duration": 0.026977,
     "end_time": "2022-08-29T16:11:23.082187",
     "exception": false,
     "start_time": "2022-08-29T16:11:23.055210",
     "status": "completed"
    },
    "tags": []
   },
   "source": [
    "# FOR TIME"
   ]
  },
  {
   "cell_type": "code",
   "execution_count": 14,
   "id": "4913df97",
   "metadata": {
    "execution": {
     "iopub.execute_input": "2022-08-29T16:11:23.139331Z",
     "iopub.status.busy": "2022-08-29T16:11:23.138764Z",
     "iopub.status.idle": "2022-08-29T16:11:23.143344Z",
     "shell.execute_reply": "2022-08-29T16:11:23.142673Z"
    },
    "papermill": {
     "duration": 0.035954,
     "end_time": "2022-08-29T16:11:23.145373",
     "exception": false,
     "start_time": "2022-08-29T16:11:23.109419",
     "status": "completed"
    },
    "tags": []
   },
   "outputs": [],
   "source": [
    "def cyc_en(df,time,num):\n",
    " \n",
    "    df['sin'+ time] = np.sin(2*np.pi*df[time]/num)\n",
    "    df['cos'+ time] = np.cos(2*np.pi*df[time]/num)\n",
    "    return df"
   ]
  },
  {
   "cell_type": "code",
   "execution_count": 15,
   "id": "f7f03355",
   "metadata": {
    "execution": {
     "iopub.execute_input": "2022-08-29T16:11:23.202800Z",
     "iopub.status.busy": "2022-08-29T16:11:23.202242Z",
     "iopub.status.idle": "2022-08-29T16:11:23.694305Z",
     "shell.execute_reply": "2022-08-29T16:11:23.693637Z"
    },
    "papermill": {
     "duration": 0.522782,
     "end_time": "2022-08-29T16:11:23.696210",
     "exception": false,
     "start_time": "2022-08-29T16:11:23.173428",
     "status": "completed"
    },
    "tags": []
   },
   "outputs": [
    {
     "data": {
      "text/html": [
       "<div>\n",
       "<style scoped>\n",
       "    .dataframe tbody tr th:only-of-type {\n",
       "        vertical-align: middle;\n",
       "    }\n",
       "\n",
       "    .dataframe tbody tr th {\n",
       "        vertical-align: top;\n",
       "    }\n",
       "\n",
       "    .dataframe thead th {\n",
       "        text-align: right;\n",
       "    }\n",
       "</style>\n",
       "<table border=\"1\" class=\"dataframe\">\n",
       "  <thead>\n",
       "    <tr style=\"text-align: right;\">\n",
       "      <th></th>\n",
       "      <th>bin_0</th>\n",
       "      <th>bin_1</th>\n",
       "      <th>bin_2</th>\n",
       "      <th>bin_3</th>\n",
       "      <th>bin_4</th>\n",
       "      <th>nom_5</th>\n",
       "      <th>nom_6</th>\n",
       "      <th>nom_7</th>\n",
       "      <th>nom_8</th>\n",
       "      <th>nom_9</th>\n",
       "      <th>...</th>\n",
       "      <th>nom_4_Theremin</th>\n",
       "      <th>nom_5en</th>\n",
       "      <th>nom_6en</th>\n",
       "      <th>nom_7en</th>\n",
       "      <th>nom_8en</th>\n",
       "      <th>nom_9en</th>\n",
       "      <th>sinday</th>\n",
       "      <th>cosday</th>\n",
       "      <th>sinmonth</th>\n",
       "      <th>cosmonth</th>\n",
       "    </tr>\n",
       "    <tr>\n",
       "      <th>id</th>\n",
       "      <th></th>\n",
       "      <th></th>\n",
       "      <th></th>\n",
       "      <th></th>\n",
       "      <th></th>\n",
       "      <th></th>\n",
       "      <th></th>\n",
       "      <th></th>\n",
       "      <th></th>\n",
       "      <th></th>\n",
       "      <th></th>\n",
       "      <th></th>\n",
       "      <th></th>\n",
       "      <th></th>\n",
       "      <th></th>\n",
       "      <th></th>\n",
       "      <th></th>\n",
       "      <th></th>\n",
       "      <th></th>\n",
       "      <th></th>\n",
       "      <th></th>\n",
       "    </tr>\n",
       "  </thead>\n",
       "  <tbody>\n",
       "    <tr>\n",
       "      <th>0</th>\n",
       "      <td>0</td>\n",
       "      <td>0</td>\n",
       "      <td>0</td>\n",
       "      <td>T</td>\n",
       "      <td>Y</td>\n",
       "      <td>50f116bcf</td>\n",
       "      <td>3ac1b8814</td>\n",
       "      <td>68f6ad3e9</td>\n",
       "      <td>c389000ab</td>\n",
       "      <td>2f4cb3d51</td>\n",
       "      <td>...</td>\n",
       "      <td>0</td>\n",
       "      <td>0.008624</td>\n",
       "      <td>0.003752</td>\n",
       "      <td>0.000820</td>\n",
       "      <td>0.000978</td>\n",
       "      <td>0.000064</td>\n",
       "      <td>9.749279e-01</td>\n",
       "      <td>-0.222521</td>\n",
       "      <td>0.866025</td>\n",
       "      <td>5.000000e-01</td>\n",
       "    </tr>\n",
       "    <tr>\n",
       "      <th>1</th>\n",
       "      <td>0</td>\n",
       "      <td>1</td>\n",
       "      <td>0</td>\n",
       "      <td>T</td>\n",
       "      <td>Y</td>\n",
       "      <td>b3b4d25d0</td>\n",
       "      <td>fbcb50fc1</td>\n",
       "      <td>3b6dd5612</td>\n",
       "      <td>4cd920251</td>\n",
       "      <td>f83c56c21</td>\n",
       "      <td>...</td>\n",
       "      <td>0</td>\n",
       "      <td>0.002608</td>\n",
       "      <td>0.002736</td>\n",
       "      <td>0.000924</td>\n",
       "      <td>0.000358</td>\n",
       "      <td>0.000046</td>\n",
       "      <td>-2.449294e-16</td>\n",
       "      <td>1.000000</td>\n",
       "      <td>-0.866025</td>\n",
       "      <td>-5.000000e-01</td>\n",
       "    </tr>\n",
       "    <tr>\n",
       "      <th>2</th>\n",
       "      <td>0</td>\n",
       "      <td>0</td>\n",
       "      <td>0</td>\n",
       "      <td>F</td>\n",
       "      <td>Y</td>\n",
       "      <td>3263bdce5</td>\n",
       "      <td>0922e3cb8</td>\n",
       "      <td>a6a36f527</td>\n",
       "      <td>de9c9f684</td>\n",
       "      <td>ae6800dd0</td>\n",
       "      <td>...</td>\n",
       "      <td>1</td>\n",
       "      <td>0.008518</td>\n",
       "      <td>0.003868</td>\n",
       "      <td>0.001600</td>\n",
       "      <td>0.000878</td>\n",
       "      <td>0.000100</td>\n",
       "      <td>-2.449294e-16</td>\n",
       "      <td>1.000000</td>\n",
       "      <td>0.866025</td>\n",
       "      <td>5.000000e-01</td>\n",
       "    </tr>\n",
       "    <tr>\n",
       "      <th>3</th>\n",
       "      <td>0</td>\n",
       "      <td>1</td>\n",
       "      <td>0</td>\n",
       "      <td>F</td>\n",
       "      <td>Y</td>\n",
       "      <td>f12246592</td>\n",
       "      <td>50d7ad46a</td>\n",
       "      <td>ec69236eb</td>\n",
       "      <td>4ade6ab69</td>\n",
       "      <td>8270f0d71</td>\n",
       "      <td>...</td>\n",
       "      <td>0</td>\n",
       "      <td>0.003256</td>\n",
       "      <td>0.003874</td>\n",
       "      <td>0.001500</td>\n",
       "      <td>0.000714</td>\n",
       "      <td>0.000146</td>\n",
       "      <td>9.749279e-01</td>\n",
       "      <td>-0.222521</td>\n",
       "      <td>0.500000</td>\n",
       "      <td>8.660254e-01</td>\n",
       "    </tr>\n",
       "    <tr>\n",
       "      <th>4</th>\n",
       "      <td>0</td>\n",
       "      <td>0</td>\n",
       "      <td>0</td>\n",
       "      <td>F</td>\n",
       "      <td>N</td>\n",
       "      <td>5b0f5acd5</td>\n",
       "      <td>1fe17a1fd</td>\n",
       "      <td>04ddac2be</td>\n",
       "      <td>cb43ab175</td>\n",
       "      <td>b164b72a7</td>\n",
       "      <td>...</td>\n",
       "      <td>0</td>\n",
       "      <td>0.006602</td>\n",
       "      <td>0.003858</td>\n",
       "      <td>0.001520</td>\n",
       "      <td>0.000690</td>\n",
       "      <td>0.000126</td>\n",
       "      <td>-2.449294e-16</td>\n",
       "      <td>1.000000</td>\n",
       "      <td>-0.866025</td>\n",
       "      <td>-5.000000e-01</td>\n",
       "    </tr>\n",
       "    <tr>\n",
       "      <th>...</th>\n",
       "      <td>...</td>\n",
       "      <td>...</td>\n",
       "      <td>...</td>\n",
       "      <td>...</td>\n",
       "      <td>...</td>\n",
       "      <td>...</td>\n",
       "      <td>...</td>\n",
       "      <td>...</td>\n",
       "      <td>...</td>\n",
       "      <td>...</td>\n",
       "      <td>...</td>\n",
       "      <td>...</td>\n",
       "      <td>...</td>\n",
       "      <td>...</td>\n",
       "      <td>...</td>\n",
       "      <td>...</td>\n",
       "      <td>...</td>\n",
       "      <td>...</td>\n",
       "      <td>...</td>\n",
       "      <td>...</td>\n",
       "      <td>...</td>\n",
       "    </tr>\n",
       "    <tr>\n",
       "      <th>499995</th>\n",
       "      <td>0</td>\n",
       "      <td>0</td>\n",
       "      <td>0</td>\n",
       "      <td>F</td>\n",
       "      <td>N</td>\n",
       "      <td>6c90f81cd</td>\n",
       "      <td>a406a5f12</td>\n",
       "      <td>d02a6b0ba</td>\n",
       "      <td>9e4b23160</td>\n",
       "      <td>acc31291f</td>\n",
       "      <td>...</td>\n",
       "      <td>1</td>\n",
       "      <td>0.008912</td>\n",
       "      <td>0.003658</td>\n",
       "      <td>0.001074</td>\n",
       "      <td>0.000522</td>\n",
       "      <td>0.000124</td>\n",
       "      <td>7.818315e-01</td>\n",
       "      <td>0.623490</td>\n",
       "      <td>1.000000</td>\n",
       "      <td>6.123234e-17</td>\n",
       "    </tr>\n",
       "    <tr>\n",
       "      <th>499996</th>\n",
       "      <td>1</td>\n",
       "      <td>0</td>\n",
       "      <td>0</td>\n",
       "      <td>F</td>\n",
       "      <td>Y</td>\n",
       "      <td>2d61990e2</td>\n",
       "      <td>520806ce2</td>\n",
       "      <td>d2d8eabdb</td>\n",
       "      <td>cfbd87ed0</td>\n",
       "      <td>eae3446d0</td>\n",
       "      <td>...</td>\n",
       "      <td>0</td>\n",
       "      <td>0.005990</td>\n",
       "      <td>0.002240</td>\n",
       "      <td>0.000824</td>\n",
       "      <td>0.000546</td>\n",
       "      <td>0.000150</td>\n",
       "      <td>9.749279e-01</td>\n",
       "      <td>-0.222521</td>\n",
       "      <td>0.866025</td>\n",
       "      <td>5.000000e-01</td>\n",
       "    </tr>\n",
       "    <tr>\n",
       "      <th>499997</th>\n",
       "      <td>0</td>\n",
       "      <td>1</td>\n",
       "      <td>1</td>\n",
       "      <td>T</td>\n",
       "      <td>Y</td>\n",
       "      <td>488406659</td>\n",
       "      <td>28645754b</td>\n",
       "      <td>22831fffe</td>\n",
       "      <td>1108bcd6c</td>\n",
       "      <td>33dd3cf4b</td>\n",
       "      <td>...</td>\n",
       "      <td>0</td>\n",
       "      <td>0.002244</td>\n",
       "      <td>0.001216</td>\n",
       "      <td>0.001548</td>\n",
       "      <td>0.000384</td>\n",
       "      <td>0.000040</td>\n",
       "      <td>4.338837e-01</td>\n",
       "      <td>-0.900969</td>\n",
       "      <td>0.500000</td>\n",
       "      <td>8.660254e-01</td>\n",
       "    </tr>\n",
       "    <tr>\n",
       "      <th>499998</th>\n",
       "      <td>1</td>\n",
       "      <td>0</td>\n",
       "      <td>0</td>\n",
       "      <td>T</td>\n",
       "      <td>Y</td>\n",
       "      <td>f9d17bb93</td>\n",
       "      <td>2eadb68c5</td>\n",
       "      <td>fef807a3e</td>\n",
       "      <td>606ac930b</td>\n",
       "      <td>d4cf587dd</td>\n",
       "      <td>...</td>\n",
       "      <td>0</td>\n",
       "      <td>0.004758</td>\n",
       "      <td>0.002962</td>\n",
       "      <td>0.001498</td>\n",
       "      <td>0.000482</td>\n",
       "      <td>0.000064</td>\n",
       "      <td>9.749279e-01</td>\n",
       "      <td>-0.222521</td>\n",
       "      <td>0.500000</td>\n",
       "      <td>8.660254e-01</td>\n",
       "    </tr>\n",
       "    <tr>\n",
       "      <th>499999</th>\n",
       "      <td>0</td>\n",
       "      <td>0</td>\n",
       "      <td>0</td>\n",
       "      <td>T</td>\n",
       "      <td>Y</td>\n",
       "      <td>a5c276589</td>\n",
       "      <td>c135cdf77</td>\n",
       "      <td>a8f53c631</td>\n",
       "      <td>4ea576eb6</td>\n",
       "      <td>2d610f52c</td>\n",
       "      <td>...</td>\n",
       "      <td>0</td>\n",
       "      <td>0.006628</td>\n",
       "      <td>0.003386</td>\n",
       "      <td>0.000838</td>\n",
       "      <td>0.000828</td>\n",
       "      <td>0.000162</td>\n",
       "      <td>9.749279e-01</td>\n",
       "      <td>-0.222521</td>\n",
       "      <td>0.866025</td>\n",
       "      <td>5.000000e-01</td>\n",
       "    </tr>\n",
       "  </tbody>\n",
       "</table>\n",
       "<p>500000 rows × 47 columns</p>\n",
       "</div>"
      ],
      "text/plain": [
       "        bin_0  bin_1  bin_2 bin_3 bin_4      nom_5      nom_6      nom_7  \\\n",
       "id                                                                         \n",
       "0           0      0      0     T     Y  50f116bcf  3ac1b8814  68f6ad3e9   \n",
       "1           0      1      0     T     Y  b3b4d25d0  fbcb50fc1  3b6dd5612   \n",
       "2           0      0      0     F     Y  3263bdce5  0922e3cb8  a6a36f527   \n",
       "3           0      1      0     F     Y  f12246592  50d7ad46a  ec69236eb   \n",
       "4           0      0      0     F     N  5b0f5acd5  1fe17a1fd  04ddac2be   \n",
       "...       ...    ...    ...   ...   ...        ...        ...        ...   \n",
       "499995      0      0      0     F     N  6c90f81cd  a406a5f12  d02a6b0ba   \n",
       "499996      1      0      0     F     Y  2d61990e2  520806ce2  d2d8eabdb   \n",
       "499997      0      1      1     T     Y  488406659  28645754b  22831fffe   \n",
       "499998      1      0      0     T     Y  f9d17bb93  2eadb68c5  fef807a3e   \n",
       "499999      0      0      0     T     Y  a5c276589  c135cdf77  a8f53c631   \n",
       "\n",
       "            nom_8      nom_9  ...  nom_4_Theremin   nom_5en   nom_6en  \\\n",
       "id                            ...                                       \n",
       "0       c389000ab  2f4cb3d51  ...               0  0.008624  0.003752   \n",
       "1       4cd920251  f83c56c21  ...               0  0.002608  0.002736   \n",
       "2       de9c9f684  ae6800dd0  ...               1  0.008518  0.003868   \n",
       "3       4ade6ab69  8270f0d71  ...               0  0.003256  0.003874   \n",
       "4       cb43ab175  b164b72a7  ...               0  0.006602  0.003858   \n",
       "...           ...        ...  ...             ...       ...       ...   \n",
       "499995  9e4b23160  acc31291f  ...               1  0.008912  0.003658   \n",
       "499996  cfbd87ed0  eae3446d0  ...               0  0.005990  0.002240   \n",
       "499997  1108bcd6c  33dd3cf4b  ...               0  0.002244  0.001216   \n",
       "499998  606ac930b  d4cf587dd  ...               0  0.004758  0.002962   \n",
       "499999  4ea576eb6  2d610f52c  ...               0  0.006628  0.003386   \n",
       "\n",
       "         nom_7en   nom_8en   nom_9en        sinday    cosday  sinmonth  \\\n",
       "id                                                                       \n",
       "0       0.000820  0.000978  0.000064  9.749279e-01 -0.222521  0.866025   \n",
       "1       0.000924  0.000358  0.000046 -2.449294e-16  1.000000 -0.866025   \n",
       "2       0.001600  0.000878  0.000100 -2.449294e-16  1.000000  0.866025   \n",
       "3       0.001500  0.000714  0.000146  9.749279e-01 -0.222521  0.500000   \n",
       "4       0.001520  0.000690  0.000126 -2.449294e-16  1.000000 -0.866025   \n",
       "...          ...       ...       ...           ...       ...       ...   \n",
       "499995  0.001074  0.000522  0.000124  7.818315e-01  0.623490  1.000000   \n",
       "499996  0.000824  0.000546  0.000150  9.749279e-01 -0.222521  0.866025   \n",
       "499997  0.001548  0.000384  0.000040  4.338837e-01 -0.900969  0.500000   \n",
       "499998  0.001498  0.000482  0.000064  9.749279e-01 -0.222521  0.500000   \n",
       "499999  0.000838  0.000828  0.000162  9.749279e-01 -0.222521  0.866025   \n",
       "\n",
       "            cosmonth  \n",
       "id                    \n",
       "0       5.000000e-01  \n",
       "1      -5.000000e-01  \n",
       "2       5.000000e-01  \n",
       "3       8.660254e-01  \n",
       "4      -5.000000e-01  \n",
       "...              ...  \n",
       "499995  6.123234e-17  \n",
       "499996  5.000000e-01  \n",
       "499997  8.660254e-01  \n",
       "499998  8.660254e-01  \n",
       "499999  5.000000e-01  \n",
       "\n",
       "[500000 rows x 47 columns]"
      ]
     },
     "execution_count": 15,
     "metadata": {},
     "output_type": "execute_result"
    }
   ],
   "source": [
    "cyc_en(all_data,'day',7)\n",
    "cyc_en(all_data,'month',12)"
   ]
  },
  {
   "cell_type": "code",
   "execution_count": 16,
   "id": "a70c99d3",
   "metadata": {
    "execution": {
     "iopub.execute_input": "2022-08-29T16:11:23.755584Z",
     "iopub.status.busy": "2022-08-29T16:11:23.755011Z",
     "iopub.status.idle": "2022-08-29T16:11:24.764796Z",
     "shell.execute_reply": "2022-08-29T16:11:24.763887Z"
    },
    "papermill": {
     "duration": 1.042517,
     "end_time": "2022-08-29T16:11:24.767383",
     "exception": false,
     "start_time": "2022-08-29T16:11:23.724866",
     "status": "completed"
    },
    "tags": []
   },
   "outputs": [],
   "source": [
    "nom5_9=['nom_5','nom_6','nom_7','nom_8','nom_9']\n",
    "ohe= OneHotEncoder(sparse=True)\n",
    "\n",
    "\n",
    "all_data_en= ohe.fit_transform(all_data[nom5_9])"
   ]
  },
  {
   "cell_type": "code",
   "execution_count": 17,
   "id": "372e691a",
   "metadata": {
    "execution": {
     "iopub.execute_input": "2022-08-29T16:11:24.828206Z",
     "iopub.status.busy": "2022-08-29T16:11:24.827881Z",
     "iopub.status.idle": "2022-08-29T16:11:26.290133Z",
     "shell.execute_reply": "2022-08-29T16:11:26.289085Z"
    },
    "papermill": {
     "duration": 1.495077,
     "end_time": "2022-08-29T16:11:26.292046",
     "exception": true,
     "start_time": "2022-08-29T16:11:24.796969",
     "status": "failed"
    },
    "tags": []
   },
   "outputs": [
    {
     "ename": "ValueError",
     "evalue": "could not convert string to float: 'T'",
     "output_type": "error",
     "traceback": [
      "\u001b[0;31m---------------------------------------------------------------------------\u001b[0m",
      "\u001b[0;31mValueError\u001b[0m                                Traceback (most recent call last)",
      "\u001b[0;32m/tmp/ipykernel_18/3396754711.py\u001b[0m in \u001b[0;36m<module>\u001b[0;34m\u001b[0m\n\u001b[1;32m      1\u001b[0m \u001b[0mscal\u001b[0m\u001b[0;34m=\u001b[0m \u001b[0mStandardScaler\u001b[0m\u001b[0;34m(\u001b[0m\u001b[0;34m)\u001b[0m\u001b[0;34m\u001b[0m\u001b[0;34m\u001b[0m\u001b[0m\n\u001b[0;32m----> 2\u001b[0;31m \u001b[0mall_data\u001b[0m\u001b[0;34m=\u001b[0m\u001b[0mscal\u001b[0m\u001b[0;34m.\u001b[0m\u001b[0mfit_transform\u001b[0m\u001b[0;34m(\u001b[0m\u001b[0mall_data\u001b[0m\u001b[0;34m)\u001b[0m\u001b[0;34m\u001b[0m\u001b[0;34m\u001b[0m\u001b[0m\n\u001b[0m",
      "\u001b[0;32m/opt/conda/lib/python3.7/site-packages/sklearn/base.py\u001b[0m in \u001b[0;36mfit_transform\u001b[0;34m(self, X, y, **fit_params)\u001b[0m\n\u001b[1;32m    850\u001b[0m         \u001b[0;32mif\u001b[0m \u001b[0my\u001b[0m \u001b[0;32mis\u001b[0m \u001b[0;32mNone\u001b[0m\u001b[0;34m:\u001b[0m\u001b[0;34m\u001b[0m\u001b[0;34m\u001b[0m\u001b[0m\n\u001b[1;32m    851\u001b[0m             \u001b[0;31m# fit method of arity 1 (unsupervised transformation)\u001b[0m\u001b[0;34m\u001b[0m\u001b[0;34m\u001b[0m\u001b[0;34m\u001b[0m\u001b[0m\n\u001b[0;32m--> 852\u001b[0;31m             \u001b[0;32mreturn\u001b[0m \u001b[0mself\u001b[0m\u001b[0;34m.\u001b[0m\u001b[0mfit\u001b[0m\u001b[0;34m(\u001b[0m\u001b[0mX\u001b[0m\u001b[0;34m,\u001b[0m \u001b[0;34m**\u001b[0m\u001b[0mfit_params\u001b[0m\u001b[0;34m)\u001b[0m\u001b[0;34m.\u001b[0m\u001b[0mtransform\u001b[0m\u001b[0;34m(\u001b[0m\u001b[0mX\u001b[0m\u001b[0;34m)\u001b[0m\u001b[0;34m\u001b[0m\u001b[0;34m\u001b[0m\u001b[0m\n\u001b[0m\u001b[1;32m    853\u001b[0m         \u001b[0;32melse\u001b[0m\u001b[0;34m:\u001b[0m\u001b[0;34m\u001b[0m\u001b[0;34m\u001b[0m\u001b[0m\n\u001b[1;32m    854\u001b[0m             \u001b[0;31m# fit method of arity 2 (supervised transformation)\u001b[0m\u001b[0;34m\u001b[0m\u001b[0;34m\u001b[0m\u001b[0;34m\u001b[0m\u001b[0m\n",
      "\u001b[0;32m/opt/conda/lib/python3.7/site-packages/sklearn/preprocessing/_data.py\u001b[0m in \u001b[0;36mfit\u001b[0;34m(self, X, y, sample_weight)\u001b[0m\n\u001b[1;32m    804\u001b[0m         \u001b[0;31m# Reset internal state before fitting\u001b[0m\u001b[0;34m\u001b[0m\u001b[0;34m\u001b[0m\u001b[0;34m\u001b[0m\u001b[0m\n\u001b[1;32m    805\u001b[0m         \u001b[0mself\u001b[0m\u001b[0;34m.\u001b[0m\u001b[0m_reset\u001b[0m\u001b[0;34m(\u001b[0m\u001b[0;34m)\u001b[0m\u001b[0;34m\u001b[0m\u001b[0;34m\u001b[0m\u001b[0m\n\u001b[0;32m--> 806\u001b[0;31m         \u001b[0;32mreturn\u001b[0m \u001b[0mself\u001b[0m\u001b[0;34m.\u001b[0m\u001b[0mpartial_fit\u001b[0m\u001b[0;34m(\u001b[0m\u001b[0mX\u001b[0m\u001b[0;34m,\u001b[0m \u001b[0my\u001b[0m\u001b[0;34m,\u001b[0m \u001b[0msample_weight\u001b[0m\u001b[0;34m)\u001b[0m\u001b[0;34m\u001b[0m\u001b[0;34m\u001b[0m\u001b[0m\n\u001b[0m\u001b[1;32m    807\u001b[0m \u001b[0;34m\u001b[0m\u001b[0m\n\u001b[1;32m    808\u001b[0m     \u001b[0;32mdef\u001b[0m \u001b[0mpartial_fit\u001b[0m\u001b[0;34m(\u001b[0m\u001b[0mself\u001b[0m\u001b[0;34m,\u001b[0m \u001b[0mX\u001b[0m\u001b[0;34m,\u001b[0m \u001b[0my\u001b[0m\u001b[0;34m=\u001b[0m\u001b[0;32mNone\u001b[0m\u001b[0;34m,\u001b[0m \u001b[0msample_weight\u001b[0m\u001b[0;34m=\u001b[0m\u001b[0;32mNone\u001b[0m\u001b[0;34m)\u001b[0m\u001b[0;34m:\u001b[0m\u001b[0;34m\u001b[0m\u001b[0;34m\u001b[0m\u001b[0m\n",
      "\u001b[0;32m/opt/conda/lib/python3.7/site-packages/sklearn/preprocessing/_data.py\u001b[0m in \u001b[0;36mpartial_fit\u001b[0;34m(self, X, y, sample_weight)\u001b[0m\n\u001b[1;32m    845\u001b[0m             \u001b[0mdtype\u001b[0m\u001b[0;34m=\u001b[0m\u001b[0mFLOAT_DTYPES\u001b[0m\u001b[0;34m,\u001b[0m\u001b[0;34m\u001b[0m\u001b[0;34m\u001b[0m\u001b[0m\n\u001b[1;32m    846\u001b[0m             \u001b[0mforce_all_finite\u001b[0m\u001b[0;34m=\u001b[0m\u001b[0;34m\"allow-nan\"\u001b[0m\u001b[0;34m,\u001b[0m\u001b[0;34m\u001b[0m\u001b[0;34m\u001b[0m\u001b[0m\n\u001b[0;32m--> 847\u001b[0;31m             \u001b[0mreset\u001b[0m\u001b[0;34m=\u001b[0m\u001b[0mfirst_call\u001b[0m\u001b[0;34m,\u001b[0m\u001b[0;34m\u001b[0m\u001b[0;34m\u001b[0m\u001b[0m\n\u001b[0m\u001b[1;32m    848\u001b[0m         )\n\u001b[1;32m    849\u001b[0m         \u001b[0mn_features\u001b[0m \u001b[0;34m=\u001b[0m \u001b[0mX\u001b[0m\u001b[0;34m.\u001b[0m\u001b[0mshape\u001b[0m\u001b[0;34m[\u001b[0m\u001b[0;36m1\u001b[0m\u001b[0;34m]\u001b[0m\u001b[0;34m\u001b[0m\u001b[0;34m\u001b[0m\u001b[0m\n",
      "\u001b[0;32m/opt/conda/lib/python3.7/site-packages/sklearn/base.py\u001b[0m in \u001b[0;36m_validate_data\u001b[0;34m(self, X, y, reset, validate_separately, **check_params)\u001b[0m\n\u001b[1;32m    564\u001b[0m             \u001b[0;32mraise\u001b[0m \u001b[0mValueError\u001b[0m\u001b[0;34m(\u001b[0m\u001b[0;34m\"Validation should be done on X, y or both.\"\u001b[0m\u001b[0;34m)\u001b[0m\u001b[0;34m\u001b[0m\u001b[0;34m\u001b[0m\u001b[0m\n\u001b[1;32m    565\u001b[0m         \u001b[0;32melif\u001b[0m \u001b[0;32mnot\u001b[0m \u001b[0mno_val_X\u001b[0m \u001b[0;32mand\u001b[0m \u001b[0mno_val_y\u001b[0m\u001b[0;34m:\u001b[0m\u001b[0;34m\u001b[0m\u001b[0;34m\u001b[0m\u001b[0m\n\u001b[0;32m--> 566\u001b[0;31m             \u001b[0mX\u001b[0m \u001b[0;34m=\u001b[0m \u001b[0mcheck_array\u001b[0m\u001b[0;34m(\u001b[0m\u001b[0mX\u001b[0m\u001b[0;34m,\u001b[0m \u001b[0;34m**\u001b[0m\u001b[0mcheck_params\u001b[0m\u001b[0;34m)\u001b[0m\u001b[0;34m\u001b[0m\u001b[0;34m\u001b[0m\u001b[0m\n\u001b[0m\u001b[1;32m    567\u001b[0m             \u001b[0mout\u001b[0m \u001b[0;34m=\u001b[0m \u001b[0mX\u001b[0m\u001b[0;34m\u001b[0m\u001b[0;34m\u001b[0m\u001b[0m\n\u001b[1;32m    568\u001b[0m         \u001b[0;32melif\u001b[0m \u001b[0mno_val_X\u001b[0m \u001b[0;32mand\u001b[0m \u001b[0;32mnot\u001b[0m \u001b[0mno_val_y\u001b[0m\u001b[0;34m:\u001b[0m\u001b[0;34m\u001b[0m\u001b[0;34m\u001b[0m\u001b[0m\n",
      "\u001b[0;32m/opt/conda/lib/python3.7/site-packages/sklearn/utils/validation.py\u001b[0m in \u001b[0;36mcheck_array\u001b[0;34m(array, accept_sparse, accept_large_sparse, dtype, order, copy, force_all_finite, ensure_2d, allow_nd, ensure_min_samples, ensure_min_features, estimator)\u001b[0m\n\u001b[1;32m    744\u001b[0m                     \u001b[0marray\u001b[0m \u001b[0;34m=\u001b[0m \u001b[0marray\u001b[0m\u001b[0;34m.\u001b[0m\u001b[0mastype\u001b[0m\u001b[0;34m(\u001b[0m\u001b[0mdtype\u001b[0m\u001b[0;34m,\u001b[0m \u001b[0mcasting\u001b[0m\u001b[0;34m=\u001b[0m\u001b[0;34m\"unsafe\"\u001b[0m\u001b[0;34m,\u001b[0m \u001b[0mcopy\u001b[0m\u001b[0;34m=\u001b[0m\u001b[0;32mFalse\u001b[0m\u001b[0;34m)\u001b[0m\u001b[0;34m\u001b[0m\u001b[0;34m\u001b[0m\u001b[0m\n\u001b[1;32m    745\u001b[0m                 \u001b[0;32melse\u001b[0m\u001b[0;34m:\u001b[0m\u001b[0;34m\u001b[0m\u001b[0;34m\u001b[0m\u001b[0m\n\u001b[0;32m--> 746\u001b[0;31m                     \u001b[0marray\u001b[0m \u001b[0;34m=\u001b[0m \u001b[0mnp\u001b[0m\u001b[0;34m.\u001b[0m\u001b[0masarray\u001b[0m\u001b[0;34m(\u001b[0m\u001b[0marray\u001b[0m\u001b[0;34m,\u001b[0m \u001b[0morder\u001b[0m\u001b[0;34m=\u001b[0m\u001b[0morder\u001b[0m\u001b[0;34m,\u001b[0m \u001b[0mdtype\u001b[0m\u001b[0;34m=\u001b[0m\u001b[0mdtype\u001b[0m\u001b[0;34m)\u001b[0m\u001b[0;34m\u001b[0m\u001b[0;34m\u001b[0m\u001b[0m\n\u001b[0m\u001b[1;32m    747\u001b[0m             \u001b[0;32mexcept\u001b[0m \u001b[0mComplexWarning\u001b[0m \u001b[0;32mas\u001b[0m \u001b[0mcomplex_warning\u001b[0m\u001b[0;34m:\u001b[0m\u001b[0;34m\u001b[0m\u001b[0;34m\u001b[0m\u001b[0m\n\u001b[1;32m    748\u001b[0m                 raise ValueError(\n",
      "\u001b[0;32m/opt/conda/lib/python3.7/site-packages/pandas/core/generic.py\u001b[0m in \u001b[0;36m__array__\u001b[0;34m(self, dtype)\u001b[0m\n\u001b[1;32m   1991\u001b[0m \u001b[0;34m\u001b[0m\u001b[0m\n\u001b[1;32m   1992\u001b[0m     \u001b[0;32mdef\u001b[0m \u001b[0m__array__\u001b[0m\u001b[0;34m(\u001b[0m\u001b[0mself\u001b[0m\u001b[0;34m,\u001b[0m \u001b[0mdtype\u001b[0m\u001b[0;34m:\u001b[0m \u001b[0mNpDtype\u001b[0m \u001b[0;34m|\u001b[0m \u001b[0;32mNone\u001b[0m \u001b[0;34m=\u001b[0m \u001b[0;32mNone\u001b[0m\u001b[0;34m)\u001b[0m \u001b[0;34m->\u001b[0m \u001b[0mnp\u001b[0m\u001b[0;34m.\u001b[0m\u001b[0mndarray\u001b[0m\u001b[0;34m:\u001b[0m\u001b[0;34m\u001b[0m\u001b[0;34m\u001b[0m\u001b[0m\n\u001b[0;32m-> 1993\u001b[0;31m         \u001b[0;32mreturn\u001b[0m \u001b[0mnp\u001b[0m\u001b[0;34m.\u001b[0m\u001b[0masarray\u001b[0m\u001b[0;34m(\u001b[0m\u001b[0mself\u001b[0m\u001b[0;34m.\u001b[0m\u001b[0m_values\u001b[0m\u001b[0;34m,\u001b[0m \u001b[0mdtype\u001b[0m\u001b[0;34m=\u001b[0m\u001b[0mdtype\u001b[0m\u001b[0;34m)\u001b[0m\u001b[0;34m\u001b[0m\u001b[0;34m\u001b[0m\u001b[0m\n\u001b[0m\u001b[1;32m   1994\u001b[0m \u001b[0;34m\u001b[0m\u001b[0m\n\u001b[1;32m   1995\u001b[0m     def __array_wrap__(\n",
      "\u001b[0;31mValueError\u001b[0m: could not convert string to float: 'T'"
     ]
    }
   ],
   "source": [
    "scal= StandardScaler()\n",
    "all_data=scal.fit_transform(all_data)"
   ]
  },
  {
   "cell_type": "markdown",
   "id": "6c62f79d",
   "metadata": {
    "papermill": {
     "duration": null,
     "end_time": null,
     "exception": null,
     "start_time": null,
     "status": "pending"
    },
    "tags": []
   },
   "source": [
    "# **5-SPARSE MATRIX**"
   ]
  },
  {
   "cell_type": "code",
   "execution_count": null,
   "id": "321c3935",
   "metadata": {
    "execution": {
     "iopub.execute_input": "2022-05-18T09:52:27.423989Z",
     "iopub.status.busy": "2022-05-18T09:52:27.423569Z",
     "iopub.status.idle": "2022-05-18T09:52:28.786377Z",
     "shell.execute_reply": "2022-05-18T09:52:28.78566Z",
     "shell.execute_reply.started": "2022-05-18T09:52:27.423959Z"
    },
    "papermill": {
     "duration": null,
     "end_time": null,
     "exception": null,
     "start_time": null,
     "status": "pending"
    },
    "tags": []
   },
   "outputs": [],
   "source": [
    "from scipy.sparse import csr_matrix,hstack\n",
    "all_data=csr_matrix(all_data)\n",
    "all_data_en=csr_matrix(all_data_en)"
   ]
  },
  {
   "cell_type": "code",
   "execution_count": null,
   "id": "edc9d460",
   "metadata": {
    "execution": {
     "iopub.execute_input": "2022-05-18T09:52:30.311054Z",
     "iopub.status.busy": "2022-05-18T09:52:30.310643Z",
     "iopub.status.idle": "2022-05-18T09:52:31.39719Z",
     "shell.execute_reply": "2022-05-18T09:52:31.396172Z",
     "shell.execute_reply.started": "2022-05-18T09:52:30.311024Z"
    },
    "papermill": {
     "duration": null,
     "end_time": null,
     "exception": null,
     "start_time": null,
     "status": "pending"
    },
    "tags": []
   },
   "outputs": [],
   "source": [
    "all_data=hstack([all_data,all_data_en],format='csr')"
   ]
  },
  {
   "cell_type": "code",
   "execution_count": null,
   "id": "6c830de2",
   "metadata": {
    "execution": {
     "iopub.execute_input": "2022-05-18T09:52:33.312743Z",
     "iopub.status.busy": "2022-05-18T09:52:33.312281Z",
     "iopub.status.idle": "2022-05-18T09:52:33.974102Z",
     "shell.execute_reply": "2022-05-18T09:52:33.97316Z",
     "shell.execute_reply.started": "2022-05-18T09:52:33.3127Z"
    },
    "papermill": {
     "duration": null,
     "end_time": null,
     "exception": null,
     "start_time": null,
     "status": "pending"
    },
    "tags": []
   },
   "outputs": [],
   "source": [
    "new_train=(all_data[:ind])\n",
    "new_test=(all_data[ind:])"
   ]
  }
 ],
 "metadata": {
  "kernelspec": {
   "display_name": "Python 3",
   "language": "python",
   "name": "python3"
  },
  "language_info": {
   "codemirror_mode": {
    "name": "ipython",
    "version": 3
   },
   "file_extension": ".py",
   "mimetype": "text/x-python",
   "name": "python",
   "nbconvert_exporter": "python",
   "pygments_lexer": "ipython3",
   "version": "3.7.12"
  },
  "papermill": {
   "default_parameters": {},
   "duration": 35.76176,
   "end_time": "2022-08-29T16:11:29.439872",
   "environment_variables": {},
   "exception": true,
   "input_path": "__notebook__.ipynb",
   "output_path": "__notebook__.ipynb",
   "parameters": {},
   "start_time": "2022-08-29T16:10:53.678112",
   "version": "2.3.4"
  }
 },
 "nbformat": 4,
 "nbformat_minor": 5
}
