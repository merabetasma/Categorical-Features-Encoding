{
 "cells": [
  {
   "cell_type": "code",
   "execution_count": 1,
   "id": "5792ee18",
   "metadata": {
    "execution": {
     "iopub.execute_input": "2022-05-25T16:54:15.177415Z",
     "iopub.status.busy": "2022-05-25T16:54:15.176862Z",
     "iopub.status.idle": "2022-05-25T16:54:18.233899Z",
     "shell.execute_reply": "2022-05-25T16:54:18.233050Z"
    },
    "papermill": {
     "duration": 3.087205,
     "end_time": "2022-05-25T16:54:18.236418",
     "exception": false,
     "start_time": "2022-05-25T16:54:15.149213",
     "status": "completed"
    },
    "tags": []
   },
   "outputs": [
    {
     "data": {
      "text/html": [
       "<style type='text/css'>\n",
       ".datatable table.frame { margin-bottom: 0; }\n",
       ".datatable table.frame thead { border-bottom: none; }\n",
       ".datatable table.frame tr.coltypes td {  color: #FFFFFF;  line-height: 6px;  padding: 0 0.5em;}\n",
       ".datatable .bool    { background: #DDDD99; }\n",
       ".datatable .object  { background: #565656; }\n",
       ".datatable .int     { background: #5D9E5D; }\n",
       ".datatable .float   { background: #4040CC; }\n",
       ".datatable .str     { background: #CC4040; }\n",
       ".datatable .time    { background: #40CC40; }\n",
       ".datatable .row_index {  background: var(--jp-border-color3);  border-right: 1px solid var(--jp-border-color0);  color: var(--jp-ui-font-color3);  font-size: 9px;}\n",
       ".datatable .frame tbody td { text-align: left; }\n",
       ".datatable .frame tr.coltypes .row_index {  background: var(--jp-border-color0);}\n",
       ".datatable th:nth-child(2) { padding-left: 12px; }\n",
       ".datatable .hellipsis {  color: var(--jp-cell-editor-border-color);}\n",
       ".datatable .vellipsis {  background: var(--jp-layout-color0);  color: var(--jp-cell-editor-border-color);}\n",
       ".datatable .na {  color: var(--jp-cell-editor-border-color);  font-size: 80%;}\n",
       ".datatable .sp {  opacity: 0.25;}\n",
       ".datatable .footer { font-size: 9px; }\n",
       ".datatable .frame_dimensions {  background: var(--jp-border-color3);  border-top: 1px solid var(--jp-border-color0);  color: var(--jp-ui-font-color3);  display: inline-block;  opacity: 0.6;  padding: 1px 10px 1px 5px;}\n",
       "</style>\n"
      ],
      "text/plain": [
       "<IPython.core.display.HTML object>"
      ]
     },
     "metadata": {},
     "output_type": "display_data"
    }
   ],
   "source": [
    "import pandas as pd\n",
    "import numpy as np \n",
    "from sklearn.model_selection import train_test_split\n",
    "from sklearn.preprocessing import OrdinalEncoder,OneHotEncoder,StandardScaler,MinMaxScaler\n",
    "import lightgbm as lgb\n",
    "from sklearn.linear_model import LogisticRegression\n",
    "import string\n",
    "from category_encoders import TargetEncoder,LeaveOneOutEncoder\n",
    "from catboost import CatBoostClassifier\n",
    "from sklearn.metrics import roc_auc_score\n",
    "from sklearn.feature_extraction import FeatureHasher"
   ]
  },
  {
   "cell_type": "markdown",
   "id": "43dab197",
   "metadata": {
    "papermill": {
     "duration": 0.025233,
     "end_time": "2022-05-25T16:54:18.287984",
     "exception": false,
     "start_time": "2022-05-25T16:54:18.262751",
     "status": "completed"
    },
    "tags": []
   },
   "source": [
    "# Get Data"
   ]
  },
  {
   "cell_type": "code",
   "execution_count": 2,
   "id": "cb9f9cac",
   "metadata": {
    "execution": {
     "iopub.execute_input": "2022-05-25T16:54:18.340913Z",
     "iopub.status.busy": "2022-05-25T16:54:18.340633Z",
     "iopub.status.idle": "2022-05-25T16:54:21.139864Z",
     "shell.execute_reply": "2022-05-25T16:54:21.139086Z"
    },
    "papermill": {
     "duration": 2.828894,
     "end_time": "2022-05-25T16:54:21.142466",
     "exception": false,
     "start_time": "2022-05-25T16:54:18.313572",
     "status": "completed"
    },
    "tags": []
   },
   "outputs": [],
   "source": [
    "train=pd.read_csv('../input/cat-in-the-dat/train.csv',index_col='id')\n",
    "test=pd.read_csv('../input/cat-in-the-dat/test.csv',index_col='id')\n",
    "submission=pd.read_csv('../input/cat-in-the-dat/sample_submission.csv')"
   ]
  },
  {
   "cell_type": "markdown",
   "id": "ca23851a",
   "metadata": {
    "papermill": {
     "duration": 0.025105,
     "end_time": "2022-05-25T16:54:21.193749",
     "exception": false,
     "start_time": "2022-05-25T16:54:21.168644",
     "status": "completed"
    },
    "tags": []
   },
   "source": [
    "# Concat Data"
   ]
  },
  {
   "cell_type": "code",
   "execution_count": 3,
   "id": "a8ea0e3d",
   "metadata": {
    "execution": {
     "iopub.execute_input": "2022-05-25T16:54:21.250084Z",
     "iopub.status.busy": "2022-05-25T16:54:21.249574Z",
     "iopub.status.idle": "2022-05-25T16:54:21.582876Z",
     "shell.execute_reply": "2022-05-25T16:54:21.581979Z"
    },
    "papermill": {
     "duration": 0.363064,
     "end_time": "2022-05-25T16:54:21.585260",
     "exception": false,
     "start_time": "2022-05-25T16:54:21.222196",
     "status": "completed"
    },
    "tags": []
   },
   "outputs": [],
   "source": [
    "ind=len(train)\n",
    "y_train=train['target']\n",
    "train.drop('target',axis=1,inplace=True)\n",
    "all_data=pd.concat([train,test])"
   ]
  },
  {
   "cell_type": "code",
   "execution_count": 4,
   "id": "0f26014e",
   "metadata": {
    "execution": {
     "iopub.execute_input": "2022-05-25T16:54:21.638209Z",
     "iopub.status.busy": "2022-05-25T16:54:21.637928Z",
     "iopub.status.idle": "2022-05-25T16:54:22.046714Z",
     "shell.execute_reply": "2022-05-25T16:54:22.045730Z"
    },
    "papermill": {
     "duration": 0.439839,
     "end_time": "2022-05-25T16:54:22.050692",
     "exception": false,
     "start_time": "2022-05-25T16:54:21.610853",
     "status": "completed"
    },
    "tags": []
   },
   "outputs": [],
   "source": [
    "all_data.drop(['bin_0'],axis=1,inplace=True)"
   ]
  },
  {
   "cell_type": "markdown",
   "id": "3ab01c9d",
   "metadata": {
    "papermill": {
     "duration": 0.030093,
     "end_time": "2022-05-25T16:54:22.111331",
     "exception": false,
     "start_time": "2022-05-25T16:54:22.081238",
     "status": "completed"
    },
    "tags": []
   },
   "source": [
    "# Encoding categorical features"
   ]
  },
  {
   "cell_type": "markdown",
   "id": "928f4936",
   "metadata": {
    "papermill": {
     "duration": 0.026188,
     "end_time": "2022-05-25T16:54:22.168578",
     "exception": false,
     "start_time": "2022-05-25T16:54:22.142390",
     "status": "completed"
    },
    "tags": []
   },
   "source": [
    "# **1-binary**"
   ]
  },
  {
   "cell_type": "code",
   "execution_count": 5,
   "id": "c6601908",
   "metadata": {
    "execution": {
     "iopub.execute_input": "2022-05-25T16:54:22.223347Z",
     "iopub.status.busy": "2022-05-25T16:54:22.223062Z",
     "iopub.status.idle": "2022-05-25T16:54:22.525772Z",
     "shell.execute_reply": "2022-05-25T16:54:22.524861Z"
    },
    "papermill": {
     "duration": 0.332157,
     "end_time": "2022-05-25T16:54:22.528066",
     "exception": false,
     "start_time": "2022-05-25T16:54:22.195909",
     "status": "completed"
    },
    "tags": []
   },
   "outputs": [],
   "source": [
    "all_data['bin_3'] = all_data['bin_3'].map({'F':0, 'T':1})\n",
    "all_data['bin_4'] = all_data['bin_4'].map({'N':0, 'Y':1})"
   ]
  },
  {
   "cell_type": "code",
   "execution_count": 6,
   "id": "c78a7a85",
   "metadata": {
    "execution": {
     "iopub.execute_input": "2022-05-25T16:54:22.580505Z",
     "iopub.status.busy": "2022-05-25T16:54:22.580222Z",
     "iopub.status.idle": "2022-05-25T16:54:22.585656Z",
     "shell.execute_reply": "2022-05-25T16:54:22.584693Z"
    },
    "papermill": {
     "duration": 0.033918,
     "end_time": "2022-05-25T16:54:22.587679",
     "exception": false,
     "start_time": "2022-05-25T16:54:22.553761",
     "status": "completed"
    },
    "tags": []
   },
   "outputs": [],
   "source": [
    "ordf=['ord_'+str(i)  for i  in range(6)]\n",
    "nomf=['nom_'+str(i)  for i  in range(10)]\n",
    "dmf=['day','month']\n"
   ]
  },
  {
   "cell_type": "markdown",
   "id": "4569fe5f",
   "metadata": {
    "papermill": {
     "duration": 0.025087,
     "end_time": "2022-05-25T16:54:22.638135",
     "exception": false,
     "start_time": "2022-05-25T16:54:22.613048",
     "status": "completed"
    },
    "tags": []
   },
   "source": [
    "# **2-ordinal**"
   ]
  },
  {
   "cell_type": "code",
   "execution_count": 7,
   "id": "a798952d",
   "metadata": {
    "execution": {
     "iopub.execute_input": "2022-05-25T16:54:22.691260Z",
     "iopub.status.busy": "2022-05-25T16:54:22.690977Z",
     "iopub.status.idle": "2022-05-25T16:54:23.030548Z",
     "shell.execute_reply": "2022-05-25T16:54:23.029779Z"
    },
    "papermill": {
     "duration": 0.369023,
     "end_time": "2022-05-25T16:54:23.032953",
     "exception": false,
     "start_time": "2022-05-25T16:54:22.663930",
     "status": "completed"
    },
    "tags": []
   },
   "outputs": [],
   "source": [
    "\n",
    "ord1_dic={'Novice':0, 'Contributor':1, 'Expert':2, 'Master':3, 'Grandmaster':4}\n",
    "ord2_dic={'Freezing':0, 'Cold':1, 'Warm':2, 'Hot':3, 'Boiling Hot':4, 'Lava Hot':5}\n",
    "\n",
    "all_data['ord_1']= all_data.ord_1.map(ord1_dic)\n",
    "all_data['ord_2']= all_data.ord_2.map(ord2_dic)"
   ]
  },
  {
   "cell_type": "code",
   "execution_count": 8,
   "id": "34a82e4a",
   "metadata": {
    "execution": {
     "iopub.execute_input": "2022-05-25T16:54:23.088357Z",
     "iopub.status.busy": "2022-05-25T16:54:23.087939Z",
     "iopub.status.idle": "2022-05-25T16:54:23.877068Z",
     "shell.execute_reply": "2022-05-25T16:54:23.876015Z"
    },
    "papermill": {
     "duration": 0.819732,
     "end_time": "2022-05-25T16:54:23.879506",
     "exception": false,
     "start_time": "2022-05-25T16:54:23.059774",
     "status": "completed"
    },
    "tags": []
   },
   "outputs": [],
   "source": [
    "enc = OrdinalEncoder(categories = 'auto')\n",
    "\n",
    "all_data[ordf[3:]] = enc.fit_transform(all_data[ordf[3:]])\n"
   ]
  },
  {
   "cell_type": "code",
   "execution_count": 9,
   "id": "a8394cbf",
   "metadata": {
    "execution": {
     "iopub.execute_input": "2022-05-25T16:54:23.932884Z",
     "iopub.status.busy": "2022-05-25T16:54:23.932589Z",
     "iopub.status.idle": "2022-05-25T16:54:24.041261Z",
     "shell.execute_reply": "2022-05-25T16:54:24.040348Z"
    },
    "papermill": {
     "duration": 0.138737,
     "end_time": "2022-05-25T16:54:24.043756",
     "exception": false,
     "start_time": "2022-05-25T16:54:23.905019",
     "status": "completed"
    },
    "tags": []
   },
   "outputs": [],
   "source": [
    "all_data[ordf] = StandardScaler().fit_transform(all_data[ordf])"
   ]
  },
  {
   "cell_type": "markdown",
   "id": "3fdc81b1",
   "metadata": {
    "papermill": {
     "duration": 0.025094,
     "end_time": "2022-05-25T16:54:24.094444",
     "exception": false,
     "start_time": "2022-05-25T16:54:24.069350",
     "status": "completed"
    },
    "tags": []
   },
   "source": [
    "# **3-Nominal**"
   ]
  },
  {
   "cell_type": "code",
   "execution_count": 10,
   "id": "f4ef57b7",
   "metadata": {
    "execution": {
     "iopub.execute_input": "2022-05-25T16:54:24.147177Z",
     "iopub.status.busy": "2022-05-25T16:54:24.146341Z",
     "iopub.status.idle": "2022-05-25T16:54:24.444682Z",
     "shell.execute_reply": "2022-05-25T16:54:24.443810Z"
    },
    "papermill": {
     "duration": 0.327601,
     "end_time": "2022-05-25T16:54:24.447437",
     "exception": false,
     "start_time": "2022-05-25T16:54:24.119836",
     "status": "completed"
    },
    "tags": []
   },
   "outputs": [],
   "source": [
    "ohe= OneHotEncoder(categories = 'auto', dtype = 'float64', drop = 'first')\n",
    "data_dmf= ohe.fit_transform(all_data[dmf])"
   ]
  },
  {
   "cell_type": "code",
   "execution_count": 11,
   "id": "2b9cd172",
   "metadata": {
    "execution": {
     "iopub.execute_input": "2022-05-25T16:54:24.501642Z",
     "iopub.status.busy": "2022-05-25T16:54:24.501350Z",
     "iopub.status.idle": "2022-05-25T16:54:24.556775Z",
     "shell.execute_reply": "2022-05-25T16:54:24.555909Z"
    },
    "papermill": {
     "duration": 0.084446,
     "end_time": "2022-05-25T16:54:24.559116",
     "exception": false,
     "start_time": "2022-05-25T16:54:24.474670",
     "status": "completed"
    },
    "tags": []
   },
   "outputs": [],
   "source": [
    "all_data.drop(dmf,axis=1,inplace=True)"
   ]
  },
  {
   "cell_type": "code",
   "execution_count": 12,
   "id": "0d50681f",
   "metadata": {
    "execution": {
     "iopub.execute_input": "2022-05-25T16:54:24.611917Z",
     "iopub.status.busy": "2022-05-25T16:54:24.611613Z",
     "iopub.status.idle": "2022-05-25T16:54:25.943203Z",
     "shell.execute_reply": "2022-05-25T16:54:25.942290Z"
    },
    "papermill": {
     "duration": 1.361575,
     "end_time": "2022-05-25T16:54:25.946286",
     "exception": false,
     "start_time": "2022-05-25T16:54:24.584711",
     "status": "completed"
    },
    "tags": []
   },
   "outputs": [],
   "source": [
    "all_data['nom_5'] = all_data['nom_5'].str[4:]\n",
    "all_data['nom_6'] = all_data['nom_6'].str[3:]\n",
    "all_data['nom_7'] = all_data['nom_7'].str[3:]\n",
    "all_data['nom_8'] = all_data['nom_8'].str[3:]\n",
    "all_data['nom_9'] = all_data['nom_9'].str[3:]"
   ]
  },
  {
   "cell_type": "code",
   "execution_count": 13,
   "id": "a806e81d",
   "metadata": {
    "execution": {
     "iopub.execute_input": "2022-05-25T16:54:26.001421Z",
     "iopub.status.busy": "2022-05-25T16:54:26.001126Z",
     "iopub.status.idle": "2022-05-25T16:54:29.109969Z",
     "shell.execute_reply": "2022-05-25T16:54:29.109104Z"
    },
    "papermill": {
     "duration": 3.138575,
     "end_time": "2022-05-25T16:54:29.112255",
     "exception": false,
     "start_time": "2022-05-25T16:54:25.973680",
     "status": "completed"
    },
    "tags": []
   },
   "outputs": [],
   "source": [
    "ohe= OneHotEncoder(categories = 'auto', dtype = 'float64', drop = 'first')\n",
    "data_nomf= ohe.fit_transform(all_data[nomf])"
   ]
  },
  {
   "cell_type": "code",
   "execution_count": 14,
   "id": "1b440b6e",
   "metadata": {
    "execution": {
     "iopub.execute_input": "2022-05-25T16:54:29.167110Z",
     "iopub.status.busy": "2022-05-25T16:54:29.166717Z",
     "iopub.status.idle": "2022-05-25T16:54:29.183092Z",
     "shell.execute_reply": "2022-05-25T16:54:29.182514Z"
    },
    "papermill": {
     "duration": 0.045484,
     "end_time": "2022-05-25T16:54:29.185366",
     "exception": false,
     "start_time": "2022-05-25T16:54:29.139882",
     "status": "completed"
    },
    "tags": []
   },
   "outputs": [],
   "source": [
    "all_data.drop(nomf,axis=1,inplace=True)"
   ]
  },
  {
   "cell_type": "markdown",
   "id": "dd900a27",
   "metadata": {
    "papermill": {
     "duration": 0.025256,
     "end_time": "2022-05-25T16:54:29.236035",
     "exception": false,
     "start_time": "2022-05-25T16:54:29.210779",
     "status": "completed"
    },
    "tags": []
   },
   "source": [
    "# **Sparse matrix**"
   ]
  },
  {
   "cell_type": "code",
   "execution_count": 15,
   "id": "be0636d5",
   "metadata": {
    "execution": {
     "iopub.execute_input": "2022-05-25T16:54:29.289092Z",
     "iopub.status.busy": "2022-05-25T16:54:29.288647Z",
     "iopub.status.idle": "2022-05-25T16:54:29.793874Z",
     "shell.execute_reply": "2022-05-25T16:54:29.792936Z"
    },
    "papermill": {
     "duration": 0.534341,
     "end_time": "2022-05-25T16:54:29.796028",
     "exception": false,
     "start_time": "2022-05-25T16:54:29.261687",
     "status": "completed"
    },
    "tags": []
   },
   "outputs": [
    {
     "data": {
      "text/plain": [
       "<500000x16288 sparse matrix of type '<class 'numpy.float64'>'\n",
       "\twith 9235121 stored elements in Compressed Sparse Row format>"
      ]
     },
     "metadata": {},
     "output_type": "display_data"
    }
   ],
   "source": [
    "from scipy.sparse import coo_matrix,hstack\n",
    "\n",
    "\n",
    "df_work_sprs =hstack([data_nomf,coo_matrix(all_data).astype('float64'),\n",
    "                                   data_dmf]).tocsr()\n",
    "display(df_work_sprs)"
   ]
  },
  {
   "cell_type": "code",
   "execution_count": 16,
   "id": "36954d5a",
   "metadata": {
    "execution": {
     "iopub.execute_input": "2022-05-25T16:54:29.851502Z",
     "iopub.status.busy": "2022-05-25T16:54:29.850905Z",
     "iopub.status.idle": "2022-05-25T16:54:29.976213Z",
     "shell.execute_reply": "2022-05-25T16:54:29.975238Z"
    },
    "papermill": {
     "duration": 0.155992,
     "end_time": "2022-05-25T16:54:29.978629",
     "exception": false,
     "start_time": "2022-05-25T16:54:29.822637",
     "status": "completed"
    },
    "tags": []
   },
   "outputs": [],
   "source": [
    "new_train=(df_work_sprs[:ind])\n",
    "new_test=(df_work_sprs[ind:])"
   ]
  },
  {
   "cell_type": "markdown",
   "id": "61236c30",
   "metadata": {
    "papermill": {
     "duration": 0.025861,
     "end_time": "2022-05-25T16:54:30.031243",
     "exception": false,
     "start_time": "2022-05-25T16:54:30.005382",
     "status": "completed"
    },
    "tags": []
   },
   "source": [
    "# **Modeling**"
   ]
  },
  {
   "cell_type": "code",
   "execution_count": 17,
   "id": "a1fb715d",
   "metadata": {
    "execution": {
     "iopub.execute_input": "2022-05-25T16:54:30.086064Z",
     "iopub.status.busy": "2022-05-25T16:54:30.085750Z",
     "iopub.status.idle": "2022-05-25T16:55:00.389420Z",
     "shell.execute_reply": "2022-05-25T16:55:00.388562Z"
    },
    "papermill": {
     "duration": 30.359423,
     "end_time": "2022-05-25T16:55:00.417558",
     "exception": false,
     "start_time": "2022-05-25T16:54:30.058135",
     "status": "completed"
    },
    "tags": []
   },
   "outputs": [
    {
     "data": {
      "text/plain": [
       "LogisticRegression(C=0.1245, class_weight='balansed', max_iter=1000, n_jobs=-1,\n",
       "                   random_state=42, solver='saga')"
      ]
     },
     "execution_count": 17,
     "metadata": {},
     "output_type": "execute_result"
    }
   ],
   "source": [
    "lg=LogisticRegression(C=0.1245, solver='saga',penalty='l2', max_iter=1000, verbose=0, n_jobs=-1,class_weight=\"balansed\",random_state=42)\n",
    "lg.fit(new_train,y_train)\n",
    "#C_predict= lg.predict_proba(X_val)[:,1]"
   ]
  },
  {
   "cell_type": "code",
   "execution_count": 18,
   "id": "a3042a76",
   "metadata": {
    "execution": {
     "iopub.execute_input": "2022-05-25T16:55:00.471785Z",
     "iopub.status.busy": "2022-05-25T16:55:00.471475Z",
     "iopub.status.idle": "2022-05-25T16:55:00.488643Z",
     "shell.execute_reply": "2022-05-25T16:55:00.487714Z"
    },
    "papermill": {
     "duration": 0.047144,
     "end_time": "2022-05-25T16:55:00.490992",
     "exception": false,
     "start_time": "2022-05-25T16:55:00.443848",
     "status": "completed"
    },
    "tags": []
   },
   "outputs": [],
   "source": [
    "y_pred=lg.predict_proba(new_test)[:,1]"
   ]
  },
  {
   "cell_type": "markdown",
   "id": "00f4f8b7",
   "metadata": {
    "papermill": {
     "duration": 0.025907,
     "end_time": "2022-05-25T16:55:00.543868",
     "exception": false,
     "start_time": "2022-05-25T16:55:00.517961",
     "status": "completed"
    },
    "tags": []
   },
   "source": [
    "# **Submission**"
   ]
  },
  {
   "cell_type": "code",
   "execution_count": 19,
   "id": "96341681",
   "metadata": {
    "execution": {
     "iopub.execute_input": "2022-05-25T16:55:00.598580Z",
     "iopub.status.busy": "2022-05-25T16:55:00.598003Z",
     "iopub.status.idle": "2022-05-25T16:55:01.277050Z",
     "shell.execute_reply": "2022-05-25T16:55:01.276149Z"
    },
    "papermill": {
     "duration": 0.709205,
     "end_time": "2022-05-25T16:55:01.279530",
     "exception": false,
     "start_time": "2022-05-25T16:55:00.570325",
     "status": "completed"
    },
    "tags": []
   },
   "outputs": [],
   "source": [
    "submission['target']=y_pred\n",
    "submission.to_csv('subasma9.csv',index=False)"
   ]
  }
 ],
 "metadata": {
  "kernelspec": {
   "display_name": "Python 3",
   "language": "python",
   "name": "python3"
  },
  "language_info": {
   "codemirror_mode": {
    "name": "ipython",
    "version": 3
   },
   "file_extension": ".py",
   "mimetype": "text/x-python",
   "name": "python",
   "nbconvert_exporter": "python",
   "pygments_lexer": "ipython3",
   "version": "3.7.12"
  },
  "papermill": {
   "default_parameters": {},
   "duration": 57.4918,
   "end_time": "2022-05-25T16:55:02.128033",
   "environment_variables": {},
   "exception": null,
   "input_path": "__notebook__.ipynb",
   "output_path": "__notebook__.ipynb",
   "parameters": {},
   "start_time": "2022-05-25T16:54:04.636233",
   "version": "2.3.4"
  }
 },
 "nbformat": 4,
 "nbformat_minor": 5
}
